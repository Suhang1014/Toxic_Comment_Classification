{
 "cells": [
  {
   "cell_type": "code",
   "execution_count": 1,
   "metadata": {
    "ExecuteTime": {
     "end_time": "2019-04-24T19:22:46.373105Z",
     "start_time": "2019-04-24T19:22:46.369429Z"
    }
   },
   "outputs": [],
   "source": [
    "import pandas as pd\n",
    "import numpy as np"
   ]
  },
  {
   "cell_type": "markdown",
   "metadata": {},
   "source": [
    "### read from cleaned copus"
   ]
  },
  {
   "cell_type": "code",
   "execution_count": 2,
   "metadata": {
    "ExecuteTime": {
     "end_time": "2019-04-24T19:23:50.751657Z",
     "start_time": "2019-04-24T19:23:49.543727Z"
    }
   },
   "outputs": [
    {
     "data": {
      "text/html": [
       "<div>\n",
       "<style scoped>\n",
       "    .dataframe tbody tr th:only-of-type {\n",
       "        vertical-align: middle;\n",
       "    }\n",
       "\n",
       "    .dataframe tbody tr th {\n",
       "        vertical-align: top;\n",
       "    }\n",
       "\n",
       "    .dataframe thead th {\n",
       "        text-align: right;\n",
       "    }\n",
       "</style>\n",
       "<table border=\"1\" class=\"dataframe\">\n",
       "  <thead>\n",
       "    <tr style=\"text-align: right;\">\n",
       "      <th></th>\n",
       "      <th>comment</th>\n",
       "    </tr>\n",
       "  </thead>\n",
       "  <tbody>\n",
       "    <tr>\n",
       "      <th>312730</th>\n",
       "      <td>. totally agree , stuff nothing too-long-crap</td>\n",
       "    </tr>\n",
       "    <tr>\n",
       "      <th>312731</th>\n",
       "      <td>= = Throw field home plate . = = Does get fast...</td>\n",
       "    </tr>\n",
       "    <tr>\n",
       "      <th>312732</th>\n",
       "      <td>\" = = Okinotorishima categories = = I see chan...</td>\n",
       "    </tr>\n",
       "    <tr>\n",
       "      <th>312733</th>\n",
       "      <td>\" = = \" \" One found nations EU - Germany - Law...</td>\n",
       "    </tr>\n",
       "    <tr>\n",
       "      <th>312734</th>\n",
       "      <td>\" :: : Stop already . Your bullshit welcome . ...</td>\n",
       "    </tr>\n",
       "  </tbody>\n",
       "</table>\n",
       "</div>"
      ],
      "text/plain": [
       "                                                  comment\n",
       "312730      . totally agree , stuff nothing too-long-crap\n",
       "312731  = = Throw field home plate . = = Does get fast...\n",
       "312732  \" = = Okinotorishima categories = = I see chan...\n",
       "312733  \" = = \" \" One found nations EU - Germany - Law...\n",
       "312734  \" :: : Stop already . Your bullshit welcome . ..."
      ]
     },
     "execution_count": 2,
     "metadata": {},
     "output_type": "execute_result"
    }
   ],
   "source": [
    "clean_corpus=pd.read_csv(\"data/clean_nltk2.csv\", header=None, usecols=[1], names=['comment'])\n",
    "clean_corpus.tail()"
   ]
  },
  {
   "cell_type": "code",
   "execution_count": 3,
   "metadata": {
    "ExecuteTime": {
     "end_time": "2019-04-24T19:23:51.250151Z",
     "start_time": "2019-04-24T19:23:50.826261Z"
    }
   },
   "outputs": [
    {
     "name": "stdout",
     "output_type": "stream",
     "text": [
      "object\n"
     ]
    },
    {
     "data": {
      "text/plain": [
       "0    ExplanationWhy edit make username Hardcore Met...\n",
       "1    D'aww ! He match background colour I'm seeming...\n",
       "2    Hey man , I'm really try edit war . It's guy c...\n",
       "3    \" MoreI cannot make real suggestions improveme...\n",
       "4    You , sir , hero . Any chance remember page th...\n",
       "5    \" Congratulations well , use tool well . · talk \"\n",
       "6         COCKSUCKER BEFORE YOU PISS AROUND ON MY WORK\n",
       "7    Your vandalism Matt Shirvington article revert...\n",
       "8    Sorry word ' nonsense ' offensive . Anyway , I...\n",
       "9                 alignment subject contrary DuLithgow\n",
       "Name: comment, dtype: object"
      ]
     },
     "execution_count": 3,
     "metadata": {},
     "output_type": "execute_result"
    }
   ],
   "source": [
    "print(clean_corpus.comment.dtype)\n",
    "\n",
    "clean_corpus = clean_corpus.comment.apply(lambda x: np.str_(x))\n",
    "\n",
    "clean_corpus[:10]"
   ]
  },
  {
   "cell_type": "markdown",
   "metadata": {},
   "source": [
    "### fitting with TFIDF"
   ]
  },
  {
   "cell_type": "code",
   "execution_count": 4,
   "metadata": {
    "ExecuteTime": {
     "end_time": "2019-04-24T19:38:21.652105Z",
     "start_time": "2019-04-24T19:38:21.635625Z"
    }
   },
   "outputs": [],
   "source": [
    "from sklearn.feature_extraction.text import TfidfVectorizer, CountVectorizer, HashingVectorizer\n",
    "\n",
    "len_train = 159571\n",
    "# len_test = 153164\n",
    "\n",
    "def TFIDF(corpus, min_doc_freq, max_feats, ngram):\n",
    "\n",
    "    #some detailed description of the parameters\n",
    "    # min_df=10 --- ignore terms that appear lesser than 10 times \n",
    "    # max_features=None  --- Create as many words as present in the text corpus\n",
    "        # changing max_features to 10k for memmory issues\n",
    "    # analyzer='word'  --- Create features from words (alternatively char can also be used)\n",
    "    # ngram_range=(1,1)  --- Use only one word at a time (unigrams)\n",
    "    # strip_accents='unicode' -- removes accents\n",
    "    # use_idf=1,smooth_idf=1 --- enable IDF\n",
    "    # sublinear_tf=1   --- Apply sublinear tf scaling, i.e. replace tf with 1 + log(tf)\n",
    "    tfv = TfidfVectorizer(min_df=min_doc_freq, max_features=max_feats, \n",
    "                strip_accents='unicode', analyzer='word',ngram_range=ngram,\n",
    "                use_idf=1, smooth_idf=1, sublinear_tf=1,\n",
    "                stop_words = 'english')\n",
    "    \n",
    "    tfv.fit(corpus)\n",
    "    \n",
    "    features = np.array(tfv.get_feature_names())\n",
    "    \n",
    "    # Transform documents to document-term matrix.\n",
    "    # Uses the vocabulary and document frequencies (df) learned by fit (or fit_transform).\n",
    "    train_matrix = tfv.transform(corpus.iloc[:len_train])\n",
    "    test_matrix = tfv.transform(corpus.iloc[len_train:])\n",
    "    \n",
    "    return features, train_matrix, test_matrix\n",
    "    \n",
    "    "
   ]
  },
  {
   "cell_type": "markdown",
   "metadata": {},
   "source": [
    "#### unigram"
   ]
  },
  {
   "cell_type": "code",
   "execution_count": 5,
   "metadata": {
    "ExecuteTime": {
     "end_time": "2019-04-24T19:39:13.845337Z",
     "start_time": "2019-04-24T19:38:30.207555Z"
    }
   },
   "outputs": [
    {
     "name": "stdout",
     "output_type": "stream",
     "text": [
      "['47' '48' '49' '4th' '50' '500' '51' '52' '53' '54' '55' '56' '57' '58'\n",
      " '59' '5px' '5th' '60' '64' '65' '70' '72' '75' '80' '85' '90' '95' '99'\n",
      " 'a7' 'abandon' 'abc' 'abide' 'ability' 'able' 'abortion' 'absence'\n",
      " 'absolute' 'absolutely' 'abstract' 'absurd' 'abuse' 'abusive' 'ac'\n",
      " 'academic' 'academics' 'academy' 'accept' 'acceptable' 'acceptance'\n",
      " 'access' 'accessible' 'accident' 'accidentally' 'accompany' 'accomplish'\n",
      " 'accord' 'accordance' 'according' 'accordingly' 'account' 'accuracy'\n",
      " 'accurate' 'accurately' 'accusation' 'accusations' 'accuse' 'achieve'\n",
      " 'achievements' 'acknowledge' 'acquire' 'act' 'action' 'active' 'actively'\n",
      " 'activist' 'activities' 'activity' 'actor' 'actors' 'actress' 'actual'\n",
      " 'actually' 'ad' 'adam' 'add' 'added' 'adding' 'addition' 'additional'\n",
      " 'additionally' 'additions' 'address' 'adequate' 'adequately' 'adhere'\n",
      " 'adjust' 'admin' 'administration' 'administrative' 'administrator']\n"
     ]
    },
    {
     "data": {
      "text/plain": [
       "matrix([[3.67302985],\n",
       "        [3.36250951],\n",
       "        [4.16633097],\n",
       "        ...,\n",
       "        [2.12094625],\n",
       "        [2.3908154 ],\n",
       "        [3.5720805 ]])"
      ]
     },
     "execution_count": 5,
     "metadata": {},
     "output_type": "execute_result"
    }
   ],
   "source": [
    "#unigram\n",
    "uni_features, uni_train_matrix, uni_test_matrix = TFIDF(clean_corpus, 200, 10000, (1,1))\n",
    "\n",
    "print(uni_features[100:200])\n",
    "uni_train_matrix.todense().sum(axis = 1)"
   ]
  },
  {
   "cell_type": "markdown",
   "metadata": {},
   "source": [
    "#### bigram"
   ]
  },
  {
   "cell_type": "code",
   "execution_count": 6,
   "metadata": {
    "ExecuteTime": {
     "end_time": "2019-04-24T19:40:16.269716Z",
     "start_time": "2019-04-24T19:39:14.327516Z"
    }
   },
   "outputs": [
    {
     "name": "stdout",
     "output_type": "stream",
     "text": [
      "['article deletion' 'article discuss' 'article discussion' 'article does'\n",
      " 'article edit' 'article exist' 'article fail' 'article feel'\n",
      " 'article good' 'article help' 'article history' 'article http'\n",
      " 'article improve' 'article include' 'article indicate' 'article know'\n",
      " 'article leave' 'article let' 'article like' 'article link'\n",
      " 'article list' 'article long' 'article look' 'article make'\n",
      " 'article manual' 'article meet' 'article mention' 'article merge'\n",
      " 'article need' 'article new' 'article notable' 'article note'\n",
      " 'article page' 'article people' 'article person' 'article place'\n",
      " 'article point' 'article post' 'article probably' 'article provide'\n",
      " 'article question' 'article read' 'article really' 'article reason'\n",
      " 'article redirect' 'article refer' 'article reference' 'article relate'\n",
      " 'article remove' 'article render' 'article revert' 'article review'\n",
      " 'article right' 'article satisfy' 'article say' 'article section'\n",
      " 'article simply' 'article source' 'article space' 'article start'\n",
      " 'article state' 'article subject' 'article suggest' 'article sure'\n",
      " 'article talk' 'article thank' 'article thanks' 'article think'\n",
      " 'article time' 'article title' 'article topic' 'article try'\n",
      " 'article use' 'article ve' 'article want' 'article way'\n",
      " 'article wikipedia' 'article wizard' 'article work' 'article wp'\n",
      " 'article write' 'articlemanual stylei' 'articles creation'\n",
      " 'articles deletion' 'ask ask' 'ask help' 'ask media' 'ask question'\n",
      " 'ask talk' 'assert notability' 'assume good' 'attention policies'\n",
      " 'audio video' 'automatically insert' 'automatically produce'\n",
      " 'avoid irrelevant' 'aware tag' 'background color' 'bad faith' 'band club']\n"
     ]
    },
    {
     "data": {
      "text/plain": [
       "matrix([[1.93789163],\n",
       "        [1.        ],\n",
       "        [1.6623753 ],\n",
       "        ...,\n",
       "        [0.        ],\n",
       "        [1.        ],\n",
       "        [1.        ]])"
      ]
     },
     "execution_count": 6,
     "metadata": {},
     "output_type": "execute_result"
    }
   ],
   "source": [
    "# bigram\n",
    "bi_features, bi_train_matrix, bi_test_matrix = TFIDF(clean_corpus, 200, 30000, (2,2))\n",
    "\n",
    "print(bi_features[100:200])\n",
    "bi_train_matrix.todense().sum(axis = 1)"
   ]
  },
  {
   "cell_type": "markdown",
   "metadata": {},
   "source": [
    "#### trigram (Deprecated)"
   ]
  },
  {
   "cell_type": "code",
   "execution_count": 7,
   "metadata": {
    "ExecuteTime": {
     "end_time": "2019-04-24T19:41:37.950994Z",
     "start_time": "2019-04-24T19:40:16.684827Z"
    }
   },
   "outputs": [
    {
     "name": "stdout",
     "output_type": "stream",
     "text": [
      "['consider check specify' 'consider create account'\n",
      " 'consider vandalism like' 'constitute fair use'\n",
      " 'content copyright status' 'content indicate subject'\n",
      " 'contest deletion add' 'contest tag add' 'continue block edit'\n",
      " 'continue vandalize page' 'continue vandalize wikipedia'\n",
      " 'contribute encyclopedia thanks' 'contributions hope like'\n",
      " 'contributions link locate' 'contributors help page'\n",
      " 'copyright question page' 'copyright status unclear' 'copyright tag list'\n",
      " 'copyright tag use' 'copyright text image' 'couple add note'\n",
      " 'create account avoid' 'create article use' 'create content copyright'\n",
      " 'create picture audio' 'criteria biographies web'\n",
      " 'criteria speedy deletion' 'criterion delete delay'\n",
      " 'currently does specify' 'date need help' 'db tag couple' 'db tag leave'\n",
      " 'decide need help' 'decide stay good' 'decide stay page'\n",
      " 'delay remove speedy' 'delete accord propose' 'delete consensus delete'\n",
      " 'delete delay remove' 'delete time guidelines' 'delete week upload'\n",
      " 'delete wikipedia article' 'delete wikipedia section' 'deletion add page'\n",
      " 'deletion article appear' 'deletion article assert'\n",
      " 'deletion article indicate' 'deletion article meet' 'deletion db tag'\n",
      " 'deletion delete consensus' 'deletion discussion search'\n",
      " 'deletion file upload' 'deletion image media' 'deletion policy conflict'\n",
      " 'deletion process contributions' 'deletion question ask'\n",
      " 'deletion tag hesitate' 'description page currently'\n",
      " 'description page edit' 'did make edit' 'did make unconstructive'\n",
      " 'discuss talk page' 'discussion page use' 'discussion search title'\n",
      " 'discussion talk page' 'disruptive edit continue' 'does make sense'\n",
      " 'does specify create' 'dropdown box note' 'edit click contributions'\n",
      " 'edit click link' 'edit consider create' 'edit continue vandalize'\n",
      " 'edit include fair' 'edit page develop' 'edit page help'\n",
      " 'edit page upload' 'edit pagehelp pagestutorialhow' 'edit revert contact'\n",
      " 'edit revert link' 'edit share ip' 'edit summary field'\n",
      " 'edit summary talk' 'edit talk page' 'edit width 100'\n",
      " 'edit wikipedian sign' 'en wikipedia org' 'encyclopedia criteria speedy'\n",
      " 'enjoy edit wikipedian' 'entry delete thank' 'error contest deletion'\n",
      " 'exist speedy deletion' 'experiment use sandbox'\n",
      " 'experiment wikipedia test' 'explain position aware'\n",
      " 'explain position remove' 'explanation delete week' 'external link spam'\n",
      " 'f5fffa pad cellpadding' 'f5fffa vertical align']\n"
     ]
    },
    {
     "data": {
      "text/plain": [
       "matrix([[0.],\n",
       "        [0.],\n",
       "        [0.],\n",
       "        ...,\n",
       "        [0.],\n",
       "        [0.],\n",
       "        [0.]])"
      ]
     },
     "execution_count": 7,
     "metadata": {},
     "output_type": "execute_result"
    }
   ],
   "source": [
    "# trigram\n",
    "tri_features, tri_train_matrix, tri_test_matrix = TFIDF(clean_corpus, 200, 50000, (3,3))\n",
    "\n",
    "print(tri_features[100:200])\n",
    "tri_train_matrix.todense().sum(axis = 1)"
   ]
  },
  {
   "cell_type": "markdown",
   "metadata": {},
   "source": [
    "#### unigram + bigram + trigram  (Deprecated)"
   ]
  },
  {
   "cell_type": "code",
   "execution_count": 8,
   "metadata": {
    "ExecuteTime": {
     "end_time": "2019-04-27T00:57:11.655277Z",
     "start_time": "2019-04-27T00:55:45.868283Z"
    }
   },
   "outputs": [
    {
     "name": "stdout",
     "output_type": "stream",
     "text": [
      "['30' '300' '31' '32' '33' '34' '35' '36' '37' '38' '39' '3px' '3px 3px'\n",
      " '3px height' '3rd' '3rr' '40' '400' '41' '42' '43' '44' '45' '46' '47'\n",
      " '48' '48 hours' '49' '4th' '50' '500' '51' '52' '53' '54' '55'\n",
      " '55 border' '56' '57' '58' '59' '5px' '5px style' '5th' '60' '64' '65'\n",
      " '70' '72' '75' '80' '85' '90' '95' '99' 'a7' 'a7 criteria' 'abandon'\n",
      " 'abc' 'abide' 'ability' 'able' 'abortion' 'absence' 'absolute'\n",
      " 'absolutely' 'abstract' 'absurd' 'abuse' 'abusive' 'ac' 'academic'\n",
      " 'academics' 'academy' 'accept' 'accept copyright' 'accept notable'\n",
      " 'acceptable' 'acceptance' 'access' 'accessible' 'accident' 'accidentally'\n",
      " 'accompany' 'accomplish' 'accord' 'accord propose' 'accord wikipedia'\n",
      " 'accordance' 'according' 'accordingly' 'account' 'account avoid'\n",
      " 'account block' 'accuracy' 'accurate' 'accurately' 'accusation'\n",
      " 'accusations' 'accuse']\n"
     ]
    },
    {
     "data": {
      "text/plain": [
       "matrix([[4.1411199 ],\n",
       "        [3.50325761],\n",
       "        [4.47103201],\n",
       "        ...,\n",
       "        [2.12094625],\n",
       "        [2.58871271],\n",
       "        [3.70261313]])"
      ]
     },
     "execution_count": 8,
     "metadata": {},
     "output_type": "execute_result"
    }
   ],
   "source": [
    "# unigram, bigram, trigram\n",
    "all_features, all_train_matrix, all_test_matrix = TFIDF(clean_corpus, 200, 40000, (1,2))\n",
    "\n",
    "print(all_features[100:200])\n",
    "all_train_matrix.todense().sum(axis = 1)"
   ]
  },
  {
   "cell_type": "code",
   "execution_count": 13,
   "metadata": {},
   "outputs": [],
   "source": [
    "np.savetxt('all', all_train_matrix.todense())"
   ]
  },
  {
   "cell_type": "markdown",
   "metadata": {},
   "source": [
    "### visualization"
   ]
  },
  {
   "cell_type": "code",
   "execution_count": 149,
   "metadata": {
    "ExecuteTime": {
     "end_time": "2019-04-24T23:41:39.664016Z",
     "start_time": "2019-04-24T23:41:37.770293Z"
    }
   },
   "outputs": [
    {
     "data": {
      "text/html": [
       "<div>\n",
       "<style scoped>\n",
       "    .dataframe tbody tr th:only-of-type {\n",
       "        vertical-align: middle;\n",
       "    }\n",
       "\n",
       "    .dataframe tbody tr th {\n",
       "        vertical-align: top;\n",
       "    }\n",
       "\n",
       "    .dataframe thead th {\n",
       "        text-align: right;\n",
       "    }\n",
       "</style>\n",
       "<table border=\"1\" class=\"dataframe\">\n",
       "  <thead>\n",
       "    <tr style=\"text-align: right;\">\n",
       "      <th></th>\n",
       "      <th>id</th>\n",
       "      <th>comment_text</th>\n",
       "      <th>toxic</th>\n",
       "      <th>severe_toxic</th>\n",
       "      <th>obscene</th>\n",
       "      <th>threat</th>\n",
       "      <th>insult</th>\n",
       "      <th>identity_hate</th>\n",
       "    </tr>\n",
       "  </thead>\n",
       "  <tbody>\n",
       "    <tr>\n",
       "      <th>159561</th>\n",
       "      <td>ffd2e85b07b3c7e4</td>\n",
       "      <td>\"\\nNo he did not, read it again (I would have ...</td>\n",
       "      <td>0</td>\n",
       "      <td>0</td>\n",
       "      <td>0</td>\n",
       "      <td>0</td>\n",
       "      <td>0</td>\n",
       "      <td>0</td>\n",
       "    </tr>\n",
       "    <tr>\n",
       "      <th>159562</th>\n",
       "      <td>ffd72e9766c09c97</td>\n",
       "      <td>\"\\n Auto guides and the motoring press are not...</td>\n",
       "      <td>0</td>\n",
       "      <td>0</td>\n",
       "      <td>0</td>\n",
       "      <td>0</td>\n",
       "      <td>0</td>\n",
       "      <td>0</td>\n",
       "    </tr>\n",
       "    <tr>\n",
       "      <th>159563</th>\n",
       "      <td>ffe029a7c79dc7fe</td>\n",
       "      <td>\"\\nplease identify what part of BLP applies be...</td>\n",
       "      <td>0</td>\n",
       "      <td>0</td>\n",
       "      <td>0</td>\n",
       "      <td>0</td>\n",
       "      <td>0</td>\n",
       "      <td>0</td>\n",
       "    </tr>\n",
       "    <tr>\n",
       "      <th>159564</th>\n",
       "      <td>ffe897e7f7182c90</td>\n",
       "      <td>Catalan independentism is the social movement ...</td>\n",
       "      <td>0</td>\n",
       "      <td>0</td>\n",
       "      <td>0</td>\n",
       "      <td>0</td>\n",
       "      <td>0</td>\n",
       "      <td>0</td>\n",
       "    </tr>\n",
       "    <tr>\n",
       "      <th>159565</th>\n",
       "      <td>ffe8b9316245be30</td>\n",
       "      <td>The numbers in parentheses are the additional ...</td>\n",
       "      <td>0</td>\n",
       "      <td>0</td>\n",
       "      <td>0</td>\n",
       "      <td>0</td>\n",
       "      <td>0</td>\n",
       "      <td>0</td>\n",
       "    </tr>\n",
       "    <tr>\n",
       "      <th>159566</th>\n",
       "      <td>ffe987279560d7ff</td>\n",
       "      <td>\":::::And for the second time of asking, when ...</td>\n",
       "      <td>0</td>\n",
       "      <td>0</td>\n",
       "      <td>0</td>\n",
       "      <td>0</td>\n",
       "      <td>0</td>\n",
       "      <td>0</td>\n",
       "    </tr>\n",
       "    <tr>\n",
       "      <th>159567</th>\n",
       "      <td>ffea4adeee384e90</td>\n",
       "      <td>You should be ashamed of yourself \\n\\nThat is ...</td>\n",
       "      <td>0</td>\n",
       "      <td>0</td>\n",
       "      <td>0</td>\n",
       "      <td>0</td>\n",
       "      <td>0</td>\n",
       "      <td>0</td>\n",
       "    </tr>\n",
       "    <tr>\n",
       "      <th>159568</th>\n",
       "      <td>ffee36eab5c267c9</td>\n",
       "      <td>Spitzer \\n\\nUmm, theres no actual article for ...</td>\n",
       "      <td>0</td>\n",
       "      <td>0</td>\n",
       "      <td>0</td>\n",
       "      <td>0</td>\n",
       "      <td>0</td>\n",
       "      <td>0</td>\n",
       "    </tr>\n",
       "    <tr>\n",
       "      <th>159569</th>\n",
       "      <td>fff125370e4aaaf3</td>\n",
       "      <td>And it looks like it was actually you who put ...</td>\n",
       "      <td>0</td>\n",
       "      <td>0</td>\n",
       "      <td>0</td>\n",
       "      <td>0</td>\n",
       "      <td>0</td>\n",
       "      <td>0</td>\n",
       "    </tr>\n",
       "    <tr>\n",
       "      <th>159570</th>\n",
       "      <td>fff46fc426af1f9a</td>\n",
       "      <td>\"\\nAnd ... I really don't think you understand...</td>\n",
       "      <td>0</td>\n",
       "      <td>0</td>\n",
       "      <td>0</td>\n",
       "      <td>0</td>\n",
       "      <td>0</td>\n",
       "      <td>0</td>\n",
       "    </tr>\n",
       "  </tbody>\n",
       "</table>\n",
       "</div>"
      ],
      "text/plain": [
       "                      id                                       comment_text  \\\n",
       "159561  ffd2e85b07b3c7e4  \"\\nNo he did not, read it again (I would have ...   \n",
       "159562  ffd72e9766c09c97  \"\\n Auto guides and the motoring press are not...   \n",
       "159563  ffe029a7c79dc7fe  \"\\nplease identify what part of BLP applies be...   \n",
       "159564  ffe897e7f7182c90  Catalan independentism is the social movement ...   \n",
       "159565  ffe8b9316245be30  The numbers in parentheses are the additional ...   \n",
       "159566  ffe987279560d7ff  \":::::And for the second time of asking, when ...   \n",
       "159567  ffea4adeee384e90  You should be ashamed of yourself \\n\\nThat is ...   \n",
       "159568  ffee36eab5c267c9  Spitzer \\n\\nUmm, theres no actual article for ...   \n",
       "159569  fff125370e4aaaf3  And it looks like it was actually you who put ...   \n",
       "159570  fff46fc426af1f9a  \"\\nAnd ... I really don't think you understand...   \n",
       "\n",
       "        toxic  severe_toxic  obscene  threat  insult  identity_hate  \n",
       "159561      0             0        0       0       0              0  \n",
       "159562      0             0        0       0       0              0  \n",
       "159563      0             0        0       0       0              0  \n",
       "159564      0             0        0       0       0              0  \n",
       "159565      0             0        0       0       0              0  \n",
       "159566      0             0        0       0       0              0  \n",
       "159567      0             0        0       0       0              0  \n",
       "159568      0             0        0       0       0              0  \n",
       "159569      0             0        0       0       0              0  \n",
       "159570      0             0        0       0       0              0  "
      ]
     },
     "execution_count": 149,
     "metadata": {},
     "output_type": "execute_result"
    }
   ],
   "source": [
    "train_df=pd.read_csv(\"data/train.csv\")\n",
    "train_df.iloc[np.arange(len_train-10,len_train), :]"
   ]
  },
  {
   "cell_type": "code",
   "execution_count": 150,
   "metadata": {
    "ExecuteTime": {
     "end_time": "2019-04-24T23:41:40.471739Z",
     "start_time": "2019-04-24T23:41:40.461175Z"
    }
   },
   "outputs": [
    {
     "name": "stdout",
     "output_type": "stream",
     "text": [
      "<class 'pandas.core.series.Series'> <class 'pandas.core.frame.DataFrame'>\n"
     ]
    },
    {
     "data": {
      "text/plain": [
       "159561    \" No , read ( I would think everyone could rec...\n",
       "159562    \" Auto guide motor press good source encyclope...\n",
       "159563    \" please identify part BLP apply BLP clearly s...\n",
       "159564    Catalan independentism social movement involve...\n",
       "159565    The number parentheses additional decimal poin...\n",
       "159566    \" :: : And second time ask , view completely c...\n",
       "159567      You ashamed That horrible thing put talk page .\n",
       "159568    Spitzer Umm , theres actual article prostituti...\n",
       "159569    And look like actually put speedy first versio...\n",
       "159570    \" And ... I really do not think understand . I...\n",
       "Name: comment, dtype: object"
      ]
     },
     "execution_count": 150,
     "metadata": {},
     "output_type": "execute_result"
    }
   ],
   "source": [
    "print(type(clean_corpus), type(train_df))\n",
    "clean_corpus[len_train-10:len_train]"
   ]
  },
  {
   "cell_type": "code",
   "execution_count": 182,
   "metadata": {
    "ExecuteTime": {
     "end_time": "2019-04-27T00:40:15.529691Z",
     "start_time": "2019-04-27T00:40:15.521552Z"
    }
   },
   "outputs": [
    {
     "data": {
      "text/plain": [
       "'Your vandalism Matt Shirvington article revert . Please do not , ban .'"
      ]
     },
     "execution_count": 182,
     "metadata": {},
     "output_type": "execute_result"
    }
   ],
   "source": [
    "clean_corpus[7]"
   ]
  },
  {
   "cell_type": "code",
   "execution_count": 181,
   "metadata": {
    "ExecuteTime": {
     "end_time": "2019-04-27T00:40:02.571637Z",
     "start_time": "2019-04-27T00:40:02.564205Z"
    }
   },
   "outputs": [
    {
     "data": {
      "text/plain": [
       "id                                                00031b1e95af7921\n",
       "comment_text     Your vandalism to the Matt Shirvington article...\n",
       "toxic                                                            0\n",
       "severe_toxic                                                     0\n",
       "obscene                                                          0\n",
       "threat                                                           0\n",
       "insult                                                           0\n",
       "identity_hate                                                    0\n",
       "Name: 7, dtype: object"
      ]
     },
     "execution_count": 181,
     "metadata": {},
     "output_type": "execute_result"
    }
   ],
   "source": [
    "train_df.iloc[7, :]"
   ]
  },
  {
   "cell_type": "code",
   "execution_count": 151,
   "metadata": {
    "ExecuteTime": {
     "end_time": "2019-04-24T23:41:42.098834Z",
     "start_time": "2019-04-24T23:41:42.073304Z"
    }
   },
   "outputs": [
    {
     "data": {
      "text/html": [
       "<div>\n",
       "<style scoped>\n",
       "    .dataframe tbody tr th:only-of-type {\n",
       "        vertical-align: middle;\n",
       "    }\n",
       "\n",
       "    .dataframe tbody tr th {\n",
       "        vertical-align: top;\n",
       "    }\n",
       "\n",
       "    .dataframe thead th {\n",
       "        text-align: right;\n",
       "    }\n",
       "</style>\n",
       "<table border=\"1\" class=\"dataframe\">\n",
       "  <thead>\n",
       "    <tr style=\"text-align: right;\">\n",
       "      <th></th>\n",
       "      <th>toxic</th>\n",
       "      <th>severe_toxic</th>\n",
       "      <th>obscene</th>\n",
       "      <th>threat</th>\n",
       "      <th>insult</th>\n",
       "      <th>identity_hate</th>\n",
       "    </tr>\n",
       "  </thead>\n",
       "  <tbody>\n",
       "    <tr>\n",
       "      <th>159566</th>\n",
       "      <td>0</td>\n",
       "      <td>0</td>\n",
       "      <td>0</td>\n",
       "      <td>0</td>\n",
       "      <td>0</td>\n",
       "      <td>0</td>\n",
       "    </tr>\n",
       "    <tr>\n",
       "      <th>159567</th>\n",
       "      <td>0</td>\n",
       "      <td>0</td>\n",
       "      <td>0</td>\n",
       "      <td>0</td>\n",
       "      <td>0</td>\n",
       "      <td>0</td>\n",
       "    </tr>\n",
       "    <tr>\n",
       "      <th>159568</th>\n",
       "      <td>0</td>\n",
       "      <td>0</td>\n",
       "      <td>0</td>\n",
       "      <td>0</td>\n",
       "      <td>0</td>\n",
       "      <td>0</td>\n",
       "    </tr>\n",
       "    <tr>\n",
       "      <th>159569</th>\n",
       "      <td>0</td>\n",
       "      <td>0</td>\n",
       "      <td>0</td>\n",
       "      <td>0</td>\n",
       "      <td>0</td>\n",
       "      <td>0</td>\n",
       "    </tr>\n",
       "    <tr>\n",
       "      <th>159570</th>\n",
       "      <td>0</td>\n",
       "      <td>0</td>\n",
       "      <td>0</td>\n",
       "      <td>0</td>\n",
       "      <td>0</td>\n",
       "      <td>0</td>\n",
       "    </tr>\n",
       "  </tbody>\n",
       "</table>\n",
       "</div>"
      ],
      "text/plain": [
       "        toxic  severe_toxic  obscene  threat  insult  identity_hate\n",
       "159566      0             0        0       0       0              0\n",
       "159567      0             0        0       0       0              0\n",
       "159568      0             0        0       0       0              0\n",
       "159569      0             0        0       0       0              0\n",
       "159570      0             0        0       0       0              0"
      ]
     },
     "execution_count": 151,
     "metadata": {},
     "output_type": "execute_result"
    }
   ],
   "source": [
    "rowsums=train_df.iloc[:,2:].sum(axis=1)  #add the value from the 3st to the end columns \n",
    "# train_df['clean']=(rowsums==0)\n",
    "\n",
    "train_tags = train_df.iloc[:, 2:]\n",
    "train_tags.tail()"
   ]
  },
  {
   "cell_type": "code",
   "execution_count": 178,
   "metadata": {
    "ExecuteTime": {
     "end_time": "2019-04-27T00:19:22.747113Z",
     "start_time": "2019-04-27T00:19:22.730434Z"
    }
   },
   "outputs": [
    {
     "data": {
      "text/plain": [
       "Int64Index([     6,     55,    181,    442,    579,    746,    756,    761,\n",
       "               887,   1017,\n",
       "            ...\n",
       "            158498, 158501, 158634, 158856, 158911, 159096, 159099, 159281,\n",
       "            159312, 159400],\n",
       "           dtype='int64', length=1595)"
      ]
     },
     "execution_count": 178,
     "metadata": {},
     "output_type": "execute_result"
    }
   ],
   "source": [
    "train_tags.index[train_tags['severe_toxic']==1]"
   ]
  },
  {
   "cell_type": "code",
   "execution_count": 159,
   "metadata": {
    "ExecuteTime": {
     "end_time": "2019-04-24T23:43:32.189464Z",
     "start_time": "2019-04-24T23:43:32.179826Z"
    }
   },
   "outputs": [],
   "source": [
    " ''' Get top n tfidf values in row and return them with their corresponding feature names.\n",
    " '''\n",
    "#https://buhrmann.github.io/tfidf-analysis.html\n",
    "def top_tfidf_feats(row, features, top_n=25):\n",
    "    #[::-1] notes row索引降序排列,then get the first top_n items\n",
    "    topn_ids = np.argsort(row)[::-1][:top_n]\n",
    "    top_feats = [(features[i], row[i]) for i in topn_ids]\n",
    "    df = pd.DataFrame(top_feats)\n",
    "    df.columns = ['feature', 'tfidf']\n",
    "    return df\n",
    "\n",
    "''' Return the top n features that on average are most important amongst documents in rows\n",
    "    indentified by indices in grp_ids. \n",
    "'''\n",
    "def top_mean_feats(Xtr, features, grp_ids, min_tfidf=0.1, top_n=25):\n",
    "    D = Xtr[grp_ids].toarray()\n",
    "    # set the features's value=0 that appear less than 10 times \n",
    "    D[D < min_tfidf] = 0\n",
    "    tfidf_means = np.mean(D, axis=0)\n",
    "    return top_tfidf_feats(tfidf_means, features, top_n)\n",
    "\n",
    "# modified for multilabel milticlass\n",
    "''' Return a list of dfs, where each df holds top_n features and their mean tfidf value\n",
    "    calculated across documents with the same class label. \n",
    "'''\n",
    "def top_feats_by_class(Xtr, features, min_tfidf=0.1, top_n=20):\n",
    "    dfs = []\n",
    "    cols=train_tags.columns\n",
    "    for col in cols:\n",
    "        ids = train_tags.index[train_tags[col]==1] # filter the train_tags which feature's value=1\n",
    "        feats_df = top_mean_feats(Xtr, features, ids, min_tfidf=min_tfidf, top_n=top_n)\n",
    "#         feats_df.label = label\n",
    "        dfs.append(feats_df)\n",
    "    return dfs"
   ]
  },
  {
   "cell_type": "code",
   "execution_count": 221,
   "metadata": {
    "ExecuteTime": {
     "end_time": "2019-04-29T00:53:28.129353Z",
     "start_time": "2019-04-29T00:53:28.110999Z"
    }
   },
   "outputs": [],
   "source": [
    "import matplotlib.pyplot as plt\n",
    "import matplotlib.gridspec as gridspec \n",
    "%matplotlib inline\n",
    "import seaborn as sns\n",
    "\n",
    "color = sns.color_palette()\n",
    "sns.set_style(\"dark\")\n",
    "\n",
    "def plotTopNfeatures(tfidf_top_n_per_lass, gramtitle):\n",
    "    # plot the top-10 TF_IDF score figures for 6 features and clean comments sequentially\n",
    "    plt.figure(figsize=(16,12))\n",
    "#     title = \"TF_IDF Top words per class(\" + gramtitle + \")\"\n",
    "#     plt.suptitle(title, fontsize=18)\n",
    "    gridspec.GridSpec(3,2)\n",
    "    \n",
    "    plt.subplot2grid((3,2),(0,0))\n",
    "    loc, labels = plt.xticks()\n",
    "    sns.barplot(tfidf_top_n_per_lass[0].feature.iloc[0:5],tfidf_top_n_per_lass[0].tfidf.iloc[0:5],color=color[0]).set_xticklabels(labels, rotation=10)\n",
    "    plt.title(\"class : Toxic\",fontsize=12)\n",
    "    plt.xlabel(' ', fontsize=12)\n",
    "    plt.ylabel('TF-IDF score', fontsize=12)\n",
    "\n",
    "    plt.subplot2grid((3,2),(0,1))\n",
    "    loc, labels = plt.xticks()\n",
    "    sns.barplot(tfidf_top_n_per_lass[1].feature.iloc[0:5],tfidf_top_n_per_lass[1].tfidf.iloc[0:5],color=color[1]).set_xticklabels(labels, rotation=10)\n",
    "    plt.title(\"class : Severe toxic\",fontsize=12)\n",
    "    plt.xlabel(' ', fontsize=12)\n",
    "    plt.ylabel('TF-IDF score', fontsize=12)\n",
    "\n",
    "\n",
    "    plt.subplot2grid((3,2),(1,0))\n",
    "    loc, labels = plt.xticks()\n",
    "    sns.barplot(tfidf_top_n_per_lass[2].feature.iloc[0:5],tfidf_top_n_per_lass[2].tfidf.iloc[0:5],color=color[2]).set_xticklabels(labels, rotation=10)\n",
    "    plt.title(\"class : Obscene\",fontsize=12)\n",
    "    plt.xlabel(' ', fontsize=12)\n",
    "    plt.ylabel('TF-IDF score', fontsize=12)\n",
    "\n",
    "\n",
    "    plt.subplot2grid((3,2),(1,1))\n",
    "    loc, labels = plt.xticks()\n",
    "    sns.barplot(tfidf_top_n_per_lass[3].feature.iloc[0:5],tfidf_top_n_per_lass[3].tfidf.iloc[0:5],color=color[3]).set_xticklabels(labels, rotation=10)\n",
    "    plt.title(\"class : Threat\",fontsize=12)\n",
    "    plt.xlabel(' ', fontsize=12)\n",
    "    plt.ylabel('TF-IDF score', fontsize=12)\n",
    "\n",
    "\n",
    "    plt.subplot2grid((3,2),(2,0))\n",
    "    loc, labels = plt.xticks()\n",
    "    sns.barplot(tfidf_top_n_per_lass[4].feature.iloc[0:5],tfidf_top_n_per_lass[4].tfidf.iloc[0:5],color=color[4]).set_xticklabels(labels, rotation=10)\n",
    "    plt.title(\"class : Insult\",fontsize=12)\n",
    "    plt.xlabel(' ', fontsize=12)\n",
    "    plt.ylabel('TF-IDF score', fontsize=12)\n",
    "\n",
    "\n",
    "    plt.subplot2grid((3,2),(2,1))\n",
    "    loc, labels = plt.xticks()\n",
    "    sns.barplot(tfidf_top_n_per_lass[5].feature.iloc[0:5],tfidf_top_n_per_lass[5].tfidf.iloc[0:5],color=color[5]).set_xticklabels(labels, rotation=10)\n",
    "    plt.title(\"class : Identity hate\",fontsize=12)\n",
    "    plt.xlabel(' ', fontsize=12)\n",
    "    plt.ylabel('TF-IDF score', fontsize=12)\n",
    "\n",
    "\n",
    "#     plt.subplot2grid((4,2),(3,0),colspan=2)\n",
    "#     loc, labels = plt.xticks()\n",
    "#     sns.barplot(tfidf_top_n_per_lass[6].feature.iloc[0:5],tfidf_top_n_per_lass[6].tfidf.iloc[0:5]).set_xticklabels(labels, rotation=10)\n",
    "#     plt.title(\"class : Clean\",fontsize=15)\n",
    "#     plt.xlabel('Word', fontsize=12)\n",
    "#     plt.ylabel('TF-IDF score', fontsize=12)\n",
    "    figure = plt.gcf()\n",
    "    plt.show()\n",
    "    \n",
    "    return figure"
   ]
  },
  {
   "cell_type": "code",
   "execution_count": 222,
   "metadata": {
    "ExecuteTime": {
     "end_time": "2019-04-29T00:53:37.856507Z",
     "start_time": "2019-04-29T00:53:28.709878Z"
    }
   },
   "outputs": [
    {
     "name": "stdout",
     "output_type": "stream",
     "text": [
      "      feature     tfidf\n",
      "0        fuck  0.077339\n",
      "1        shit  0.024943\n",
      "2        suck  0.021629\n",
      "3        like  0.019331\n",
      "4       bitch  0.018497\n",
      "5         ass  0.018176\n",
      "6      stupid  0.017359\n",
      "7        stop  0.017227\n",
      "8   wikipedia  0.016334\n",
      "9       block  0.015194\n",
      "10       page  0.014763\n",
      "11    asshole  0.014468\n",
      "12      idiot  0.013861\n",
      "13        gay  0.013599\n",
      "14       know  0.013555\n",
      "15     faggot  0.013459\n",
      "16       dick  0.013187\n",
      "17       edit  0.013000\n",
      "18       life  0.012851\n",
      "19       hell  0.012518\n"
     ]
    },
    {
     "data": {
      "image/png": "[encoded data removed]",
      "text/plain": [
       "<Figure size 1152x864 with 6 Axes>"
      ]
     },
     "metadata": {},
     "output_type": "display_data"
    }
   ],
   "source": [
    "#get top n for unigrams\n",
    "uni_tfidf_top_n_per_lass=top_feats_by_class(uni_train_matrix, uni_features)\n",
    "print(uni_tfidf_top_n_per_lass[0])\n",
    "figure = plotTopNfeatures(uni_tfidf_top_n_per_lass, 'unigrams')\n",
    "figure.savefig(\"unigram.pdf\")"
   ]
  },
  {
   "cell_type": "code",
   "execution_count": 223,
   "metadata": {
    "ExecuteTime": {
     "end_time": "2019-04-29T00:54:34.679581Z",
     "start_time": "2019-04-29T00:54:31.350783Z"
    }
   },
   "outputs": [
    {
     "name": "stdout",
     "output_type": "stream",
     "text": [
      "            feature     tfidf\n",
      "0         talk page  0.015932\n",
      "1        piece shit  0.012582\n",
      "2         fuck fuck  0.009398\n",
      "3   personal attack  0.009172\n",
      "4         suck dick  0.006589\n",
      "5       people like  0.005663\n",
      "6         son bitch  0.005247\n",
      "7         look like  0.004865\n",
      "8          act like  0.004770\n",
      "9         shut fuck  0.004602\n",
      "10        user page  0.004552\n",
      "11        suck cock  0.004497\n",
      "12   edit wikipedia  0.004029\n",
      "13      revert edit  0.003913\n",
      "14       ip address  0.003888\n",
      "15        edit page  0.003881\n",
      "16   fuck wikipedia  0.003844\n",
      "17         year old  0.003835\n",
      "18            ha ha  0.003649\n",
      "19       waste time  0.003618\n"
     ]
    },
    {
     "data": {
      "image/png": "[encoded data removed]",
      "text/plain": [
       "<Figure size 1152x864 with 6 Axes>"
      ]
     },
     "metadata": {},
     "output_type": "display_data"
    }
   ],
   "source": [
    "#get top n for bigrams\n",
    "bi_tfidf_top_n_per_lass=top_feats_by_class(bi_train_matrix, bi_features)\n",
    "print(bi_tfidf_top_n_per_lass[0])\n",
    "figure = plotTopNfeatures(bi_tfidf_top_n_per_lass, 'bigrams')\n",
    "figure.savefig(\"bigram.pdf\")"
   ]
  },
  {
   "cell_type": "code",
   "execution_count": 224,
   "metadata": {
    "ExecuteTime": {
     "end_time": "2019-04-29T01:22:31.450847Z",
     "start_time": "2019-04-29T01:22:30.570479Z"
    }
   },
   "outputs": [
    {
     "name": "stdout",
     "output_type": "stream",
     "text": [
      "                       feature     tfidf\n",
      "0         unsigned comment add  0.003145\n",
      "1   preceding unsigned comment  0.003078\n",
      "2             en wikipedia org  0.002257\n",
      "3           wikipedia org wiki  0.002152\n",
      "4         make personal attack  0.001621\n",
      "5            http en wikipedia  0.001590\n",
      "6            comment talk page  0.001373\n",
      "7               make look like  0.001242\n",
      "8               edit talk page  0.001162\n",
      "9               user talk page  0.001105\n",
      "10              post talk page  0.001091\n",
      "11           assume good faith  0.001069\n",
      "12           message talk page  0.001068\n",
      "13               want let know  0.000947\n",
      "14          neutral point view  0.000713\n",
      "15           article talk page  0.000707\n",
      "16             index php title  0.000628\n",
      "17        block edit wikipedia  0.000617\n",
      "18            comment add talk  0.000573\n",
      "19         wikipedia org index  0.000499\n"
     ]
    }
   ],
   "source": [
    "#get top n for trigrams\n",
    "tri_tfidf_top_n_per_lass=top_feats_by_class(tri_train_matrix, tri_features)\n",
    "print(tri_tfidf_top_n_per_lass[0])\n",
    "# plotTopNfeatures(tri_tfidf_top_n_per_lass, 'trigrams')"
   ]
  },
  {
   "cell_type": "code",
   "execution_count": 225,
   "metadata": {
    "ExecuteTime": {
     "end_time": "2019-04-29T01:22:50.003667Z",
     "start_time": "2019-04-29T01:22:49.999782Z"
    }
   },
   "outputs": [],
   "source": [
    "#get top n for all grams\n",
    "# all_tfidf_top_n_per_lass=top_feats_by_class(all_train_matrix, all_features)\n",
    "# print(all_tfidf_top_n_per_lass[0])\n",
    "# plotTopNfeatures(all_tfidf_top_n_per_lass, 'unigrams, bigrams')"
   ]
  },
  {
   "cell_type": "code",
   "execution_count": null,
   "metadata": {},
   "outputs": [],
   "source": []
  }
 ],
 "metadata": {
  "kernelspec": {
   "display_name": "Python 3",
   "language": "python",
   "name": "python3"
  },
  "language_info": {
   "codemirror_mode": {
    "name": "ipython",
    "version": 3
   },
   "file_extension": ".py",
   "mimetype": "text/x-python",
   "name": "python",
   "nbconvert_exporter": "python",
   "pygments_lexer": "ipython3",
   "version": "3.7.1"
  },
  "toc": {
   "base_numbering": 1,
   "nav_menu": {},
   "number_sections": true,
   "sideBar": true,
   "skip_h1_title": false,
   "title_cell": "Table of Contents",
   "title_sidebar": "Contents",
   "toc_cell": false,
   "toc_position": {},
   "toc_section_display": true,
   "toc_window_display": false
  },
  "varInspector": {
   "cols": {
    "lenName": 16,
    "lenType": 16,
    "lenVar": 40
   },
   "kernels_config": {
    "python": {
     "delete_cmd_postfix": "",
     "delete_cmd_prefix": "del ",
     "library": "var_list.py",
     "varRefreshCmd": "print(var_dic_list())"
    },
    "r": {
     "delete_cmd_postfix": ") ",
     "delete_cmd_prefix": "rm(",
     "library": "var_list.r",
     "varRefreshCmd": "cat(var_dic_list()) "
    }
   },
   "types_to_exclude": [
    "module",
    "function",
    "builtin_function_or_method",
    "instance",
    "_Feature"
   ],
   "window_display": false
  }
 },
 "nbformat": 4,
 "nbformat_minor": 2
}
