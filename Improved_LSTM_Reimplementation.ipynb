{
  "nbformat": 4,
  "nbformat_minor": 0,
  "metadata": {
    "colab": {
      "name": "Improved_LSTM_Reimplementation.ipynb",
      "version": "0.3.2",
      "provenance": []
    },
    "kernelspec": {
      "name": "python3",
      "display_name": "Python 3"
    },
    "accelerator": "TPU"
  },
  "cells": [
    {
      "cell_type": "code",
      "metadata": {
        "id": "GmFZTbNEAR6l",
        "colab_type": "code",
        "outputId": "86d2113f-7f3d-4535-a6f9-fe7d04de7b7e",
        "colab": {
          "base_uri": "https://localhost:8080/",
          "height": 34
        }
      },
      "source": [
        "from google.colab import drive\n",
        "drive.mount('/content/gdrive')"
      ],
      "execution_count": 65,
      "outputs": [
        {
          "output_type": "stream",
          "text": [
            "Drive already mounted at /content/gdrive; to attempt to forcibly remount, call drive.mount(\"/content/gdrive\", force_remount=True).\n"
          ],
          "name": "stdout"
        }
      ]
    },
    {
      "cell_type": "code",
      "metadata": {
        "id": "oNeumh__AUmy",
        "colab_type": "code",
        "outputId": "bddd9ca8-9607-438a-f2f9-2b9b13266dcc",
        "colab": {
          "base_uri": "https://localhost:8080/",
          "height": 51
        }
      },
      "source": [
        "cd gdrive/My Drive/Toxic_Comment_Classification/"
      ],
      "execution_count": 66,
      "outputs": [
        {
          "output_type": "stream",
          "text": [
            "[Errno 2] No such file or directory: 'gdrive/My Drive/Toxic_Comment_Classification/'\n",
            "/content/gdrive/My Drive/Toxic_Comment_Classification\n"
          ],
          "name": "stdout"
        }
      ]
    },
    {
      "cell_type": "code",
      "metadata": {
        "id": "3JHNShs0wFtN",
        "colab_type": "code",
        "outputId": "fe69efb2-930d-4884-d8ed-be44a9963301",
        "colab": {
          "base_uri": "https://localhost:8080/",
          "height": 119
        }
      },
      "source": [
        "ls"
      ],
      "execution_count": 67,
      "outputs": [
        {
          "output_type": "stream",
          "text": [
            " 4thkernel_submission.csv              Improved_LSTM_Reimplement.ipynb\n",
            " bi_train_matrix.npy                  'Modeling - 4th Kernel.ipynb'\n",
            " cleanining_feature_extraction.ipynb  ' README.md'\n",
            " \u001b[0m\u001b[01;34mdata\u001b[0m/                                 tfidf.npy\n",
            " Data_Mining_Group_Work.ipynb          uni_tfidf_matrix.npy\n",
            " glove_matrix.npy                      Updated_TFIDF.ipynb\n"
          ],
          "name": "stdout"
        }
      ]
    },
    {
      "cell_type": "code",
      "metadata": {
        "id": "AS5BTzLbwdMW",
        "colab_type": "code",
        "colab": {}
      },
      "source": [
        "import sys, os, re, csv, codecs, numpy as np, pandas as pd\n",
        "import matplotlib.pyplot as plt\n",
        "%matplotlib inline\n",
        "\n",
        "from keras.preprocessing.text import Tokenizer\n",
        "from keras.preprocessing.sequence import pad_sequences\n",
        "from keras.layers import Dense, Input, LSTM, Embedding, Dropout, Activation\n",
        "from keras.layers import Bidirectional, GlobalMaxPool1D\n",
        "from keras.models import Model\n",
        "from keras import initializers, regularizers, constraints, optimizers, layers"
      ],
      "execution_count": 0,
      "outputs": []
    },
    {
      "cell_type": "code",
      "metadata": {
        "id": "RA6nZz9OwgIz",
        "colab_type": "code",
        "colab": {}
      },
      "source": [
        "path = 'data/'\n",
        "EMBEDDING_FILE='data/glove.6B.50d.txt'\n",
        "TRAIN_DATA_FILE='data/train.csv'\n",
        "TEST_DATA_FILE='data/test.csv'\n",
        "CLEAN_TRAIN_FILE='data/clean_nltk2.csv'"
      ],
      "execution_count": 0,
      "outputs": []
    },
    {
      "cell_type": "code",
      "metadata": {
        "id": "3dk-LNjWwmoF",
        "colab_type": "code",
        "colab": {}
      },
      "source": [
        "embed_size = 50\n",
        "max_features = 20000\n",
        "maxlen = 100"
      ],
      "execution_count": 0,
      "outputs": []
    },
    {
      "cell_type": "markdown",
      "metadata": {
        "id": "6_XHfPqyxBzG",
        "colab_type": "text"
      },
      "source": [
        "## Load Data"
      ]
    },
    {
      "cell_type": "code",
      "metadata": {
        "id": "64DN_rXEwobo",
        "colab_type": "code",
        "colab": {}
      },
      "source": [
        "train = pd.read_csv(TRAIN_DATA_FILE)\n",
        "test = pd.read_csv(TEST_DATA_FILE)"
      ],
      "execution_count": 0,
      "outputs": []
    },
    {
      "cell_type": "code",
      "metadata": {
        "id": "WHz50IE-wqRU",
        "colab_type": "code",
        "colab": {}
      },
      "source": [
        "clean_train = pd.read_csv(CLEAN_TRAIN_FILE, header=None, index_col=0)"
      ],
      "execution_count": 0,
      "outputs": []
    },
    {
      "cell_type": "code",
      "metadata": {
        "id": "JqBudY-SwtfF",
        "colab_type": "code",
        "outputId": "a055d9f6-74d9-4510-d4d4-3e93eca51a52",
        "colab": {
          "base_uri": "https://localhost:8080/",
          "height": 204
        }
      },
      "source": [
        "train.head()"
      ],
      "execution_count": 73,
      "outputs": [
        {
          "output_type": "execute_result",
          "data": {
            "text/html": [
              "<div>\n",
              "<style scoped>\n",
              "    .dataframe tbody tr th:only-of-type {\n",
              "        vertical-align: middle;\n",
              "    }\n",
              "\n",
              "    .dataframe tbody tr th {\n",
              "        vertical-align: top;\n",
              "    }\n",
              "\n",
              "    .dataframe thead th {\n",
              "        text-align: right;\n",
              "    }\n",
              "</style>\n",
              "<table border=\"1\" class=\"dataframe\">\n",
              "  <thead>\n",
              "    <tr style=\"text-align: right;\">\n",
              "      <th></th>\n",
              "      <th>id</th>\n",
              "      <th>comment_text</th>\n",
              "      <th>toxic</th>\n",
              "      <th>severe_toxic</th>\n",
              "      <th>obscene</th>\n",
              "      <th>threat</th>\n",
              "      <th>insult</th>\n",
              "      <th>identity_hate</th>\n",
              "    </tr>\n",
              "  </thead>\n",
              "  <tbody>\n",
              "    <tr>\n",
              "      <th>0</th>\n",
              "      <td>0000997932d777bf</td>\n",
              "      <td>Explanation\\nWhy the edits made under my usern...</td>\n",
              "      <td>0</td>\n",
              "      <td>0</td>\n",
              "      <td>0</td>\n",
              "      <td>0</td>\n",
              "      <td>0</td>\n",
              "      <td>0</td>\n",
              "    </tr>\n",
              "    <tr>\n",
              "      <th>1</th>\n",
              "      <td>000103f0d9cfb60f</td>\n",
              "      <td>D'aww! He matches this background colour I'm s...</td>\n",
              "      <td>0</td>\n",
              "      <td>0</td>\n",
              "      <td>0</td>\n",
              "      <td>0</td>\n",
              "      <td>0</td>\n",
              "      <td>0</td>\n",
              "    </tr>\n",
              "    <tr>\n",
              "      <th>2</th>\n",
              "      <td>000113f07ec002fd</td>\n",
              "      <td>Hey man, I'm really not trying to edit war. It...</td>\n",
              "      <td>0</td>\n",
              "      <td>0</td>\n",
              "      <td>0</td>\n",
              "      <td>0</td>\n",
              "      <td>0</td>\n",
              "      <td>0</td>\n",
              "    </tr>\n",
              "    <tr>\n",
              "      <th>3</th>\n",
              "      <td>0001b41b1c6bb37e</td>\n",
              "      <td>\"\\nMore\\nI can't make any real suggestions on ...</td>\n",
              "      <td>0</td>\n",
              "      <td>0</td>\n",
              "      <td>0</td>\n",
              "      <td>0</td>\n",
              "      <td>0</td>\n",
              "      <td>0</td>\n",
              "    </tr>\n",
              "    <tr>\n",
              "      <th>4</th>\n",
              "      <td>0001d958c54c6e35</td>\n",
              "      <td>You, sir, are my hero. Any chance you remember...</td>\n",
              "      <td>0</td>\n",
              "      <td>0</td>\n",
              "      <td>0</td>\n",
              "      <td>0</td>\n",
              "      <td>0</td>\n",
              "      <td>0</td>\n",
              "    </tr>\n",
              "  </tbody>\n",
              "</table>\n",
              "</div>"
            ],
            "text/plain": [
              "                 id                                       comment_text  toxic  \\\n",
              "0  0000997932d777bf  Explanation\\nWhy the edits made under my usern...      0   \n",
              "1  000103f0d9cfb60f  D'aww! He matches this background colour I'm s...      0   \n",
              "2  000113f07ec002fd  Hey man, I'm really not trying to edit war. It...      0   \n",
              "3  0001b41b1c6bb37e  \"\\nMore\\nI can't make any real suggestions on ...      0   \n",
              "4  0001d958c54c6e35  You, sir, are my hero. Any chance you remember...      0   \n",
              "\n",
              "   severe_toxic  obscene  threat  insult  identity_hate  \n",
              "0             0        0       0       0              0  \n",
              "1             0        0       0       0              0  \n",
              "2             0        0       0       0              0  \n",
              "3             0        0       0       0              0  \n",
              "4             0        0       0       0              0  "
            ]
          },
          "metadata": {
            "tags": []
          },
          "execution_count": 73
        }
      ]
    },
    {
      "cell_type": "code",
      "metadata": {
        "id": "xZPArnPVwvqv",
        "colab_type": "code",
        "outputId": "614c82ca-5031-4c8a-d625-fa93fb7242bc",
        "colab": {
          "base_uri": "https://localhost:8080/",
          "height": 34
        }
      },
      "source": [
        "train.shape"
      ],
      "execution_count": 74,
      "outputs": [
        {
          "output_type": "execute_result",
          "data": {
            "text/plain": [
              "(159571, 8)"
            ]
          },
          "metadata": {
            "tags": []
          },
          "execution_count": 74
        }
      ]
    },
    {
      "cell_type": "code",
      "metadata": {
        "id": "DzZvwdBxwxiu",
        "colab_type": "code",
        "outputId": "019497be-b4c6-4ac8-ffdf-825e5ba34d98",
        "colab": {
          "base_uri": "https://localhost:8080/",
          "height": 235
        }
      },
      "source": [
        "clean_train.columns = ['clean_comment_text']\n",
        "clean_train.head()"
      ],
      "execution_count": 75,
      "outputs": [
        {
          "output_type": "execute_result",
          "data": {
            "text/html": [
              "<div>\n",
              "<style scoped>\n",
              "    .dataframe tbody tr th:only-of-type {\n",
              "        vertical-align: middle;\n",
              "    }\n",
              "\n",
              "    .dataframe tbody tr th {\n",
              "        vertical-align: top;\n",
              "    }\n",
              "\n",
              "    .dataframe thead th {\n",
              "        text-align: right;\n",
              "    }\n",
              "</style>\n",
              "<table border=\"1\" class=\"dataframe\">\n",
              "  <thead>\n",
              "    <tr style=\"text-align: right;\">\n",
              "      <th></th>\n",
              "      <th>clean_comment_text</th>\n",
              "    </tr>\n",
              "    <tr>\n",
              "      <th>0</th>\n",
              "      <th></th>\n",
              "    </tr>\n",
              "  </thead>\n",
              "  <tbody>\n",
              "    <tr>\n",
              "      <th>0</th>\n",
              "      <td>ExplanationWhy edit make username Hardcore Met...</td>\n",
              "    </tr>\n",
              "    <tr>\n",
              "      <th>1</th>\n",
              "      <td>D'aww ! He match background colour I'm seeming...</td>\n",
              "    </tr>\n",
              "    <tr>\n",
              "      <th>2</th>\n",
              "      <td>Hey man , I'm really try edit war . It's guy c...</td>\n",
              "    </tr>\n",
              "    <tr>\n",
              "      <th>3</th>\n",
              "      <td>\" MoreI cannot make real suggestions improveme...</td>\n",
              "    </tr>\n",
              "    <tr>\n",
              "      <th>4</th>\n",
              "      <td>You , sir , hero . Any chance remember page th...</td>\n",
              "    </tr>\n",
              "  </tbody>\n",
              "</table>\n",
              "</div>"
            ],
            "text/plain": [
              "                                  clean_comment_text\n",
              "0                                                   \n",
              "0  ExplanationWhy edit make username Hardcore Met...\n",
              "1  D'aww ! He match background colour I'm seeming...\n",
              "2  Hey man , I'm really try edit war . It's guy c...\n",
              "3  \" MoreI cannot make real suggestions improveme...\n",
              "4  You , sir , hero . Any chance remember page th..."
            ]
          },
          "metadata": {
            "tags": []
          },
          "execution_count": 75
        }
      ]
    },
    {
      "cell_type": "code",
      "metadata": {
        "id": "jzBcnuQnwzRd",
        "colab_type": "code",
        "outputId": "0b969217-da6a-45a3-ed2e-1330488d1b1a",
        "colab": {
          "base_uri": "https://localhost:8080/",
          "height": 34
        }
      },
      "source": [
        "clean_train.shape"
      ],
      "execution_count": 76,
      "outputs": [
        {
          "output_type": "execute_result",
          "data": {
            "text/plain": [
              "(312735, 1)"
            ]
          },
          "metadata": {
            "tags": []
          },
          "execution_count": 76
        }
      ]
    },
    {
      "cell_type": "code",
      "metadata": {
        "id": "1zDLM9sDw1dB",
        "colab_type": "code",
        "colab": {}
      },
      "source": [
        "train['clean_comment_text'] = clean_train['clean_comment_text'][:159571]"
      ],
      "execution_count": 0,
      "outputs": []
    },
    {
      "cell_type": "code",
      "metadata": {
        "id": "C0AnimIEw25Z",
        "colab_type": "code",
        "outputId": "60dff29b-0700-4240-9109-f34c6186ce75",
        "colab": {
          "base_uri": "https://localhost:8080/",
          "height": 238
        }
      },
      "source": [
        "train.head()"
      ],
      "execution_count": 78,
      "outputs": [
        {
          "output_type": "execute_result",
          "data": {
            "text/html": [
              "<div>\n",
              "<style scoped>\n",
              "    .dataframe tbody tr th:only-of-type {\n",
              "        vertical-align: middle;\n",
              "    }\n",
              "\n",
              "    .dataframe tbody tr th {\n",
              "        vertical-align: top;\n",
              "    }\n",
              "\n",
              "    .dataframe thead th {\n",
              "        text-align: right;\n",
              "    }\n",
              "</style>\n",
              "<table border=\"1\" class=\"dataframe\">\n",
              "  <thead>\n",
              "    <tr style=\"text-align: right;\">\n",
              "      <th></th>\n",
              "      <th>id</th>\n",
              "      <th>comment_text</th>\n",
              "      <th>toxic</th>\n",
              "      <th>severe_toxic</th>\n",
              "      <th>obscene</th>\n",
              "      <th>threat</th>\n",
              "      <th>insult</th>\n",
              "      <th>identity_hate</th>\n",
              "      <th>clean_comment_text</th>\n",
              "    </tr>\n",
              "  </thead>\n",
              "  <tbody>\n",
              "    <tr>\n",
              "      <th>0</th>\n",
              "      <td>0000997932d777bf</td>\n",
              "      <td>Explanation\\nWhy the edits made under my usern...</td>\n",
              "      <td>0</td>\n",
              "      <td>0</td>\n",
              "      <td>0</td>\n",
              "      <td>0</td>\n",
              "      <td>0</td>\n",
              "      <td>0</td>\n",
              "      <td>ExplanationWhy edit make username Hardcore Met...</td>\n",
              "    </tr>\n",
              "    <tr>\n",
              "      <th>1</th>\n",
              "      <td>000103f0d9cfb60f</td>\n",
              "      <td>D'aww! He matches this background colour I'm s...</td>\n",
              "      <td>0</td>\n",
              "      <td>0</td>\n",
              "      <td>0</td>\n",
              "      <td>0</td>\n",
              "      <td>0</td>\n",
              "      <td>0</td>\n",
              "      <td>D'aww ! He match background colour I'm seeming...</td>\n",
              "    </tr>\n",
              "    <tr>\n",
              "      <th>2</th>\n",
              "      <td>000113f07ec002fd</td>\n",
              "      <td>Hey man, I'm really not trying to edit war. It...</td>\n",
              "      <td>0</td>\n",
              "      <td>0</td>\n",
              "      <td>0</td>\n",
              "      <td>0</td>\n",
              "      <td>0</td>\n",
              "      <td>0</td>\n",
              "      <td>Hey man , I'm really try edit war . It's guy c...</td>\n",
              "    </tr>\n",
              "    <tr>\n",
              "      <th>3</th>\n",
              "      <td>0001b41b1c6bb37e</td>\n",
              "      <td>\"\\nMore\\nI can't make any real suggestions on ...</td>\n",
              "      <td>0</td>\n",
              "      <td>0</td>\n",
              "      <td>0</td>\n",
              "      <td>0</td>\n",
              "      <td>0</td>\n",
              "      <td>0</td>\n",
              "      <td>\" MoreI cannot make real suggestions improveme...</td>\n",
              "    </tr>\n",
              "    <tr>\n",
              "      <th>4</th>\n",
              "      <td>0001d958c54c6e35</td>\n",
              "      <td>You, sir, are my hero. Any chance you remember...</td>\n",
              "      <td>0</td>\n",
              "      <td>0</td>\n",
              "      <td>0</td>\n",
              "      <td>0</td>\n",
              "      <td>0</td>\n",
              "      <td>0</td>\n",
              "      <td>You , sir , hero . Any chance remember page th...</td>\n",
              "    </tr>\n",
              "  </tbody>\n",
              "</table>\n",
              "</div>"
            ],
            "text/plain": [
              "                 id                                       comment_text  toxic  \\\n",
              "0  0000997932d777bf  Explanation\\nWhy the edits made under my usern...      0   \n",
              "1  000103f0d9cfb60f  D'aww! He matches this background colour I'm s...      0   \n",
              "2  000113f07ec002fd  Hey man, I'm really not trying to edit war. It...      0   \n",
              "3  0001b41b1c6bb37e  \"\\nMore\\nI can't make any real suggestions on ...      0   \n",
              "4  0001d958c54c6e35  You, sir, are my hero. Any chance you remember...      0   \n",
              "\n",
              "   severe_toxic  obscene  threat  insult  identity_hate  \\\n",
              "0             0        0       0       0              0   \n",
              "1             0        0       0       0              0   \n",
              "2             0        0       0       0              0   \n",
              "3             0        0       0       0              0   \n",
              "4             0        0       0       0              0   \n",
              "\n",
              "                                  clean_comment_text  \n",
              "0  ExplanationWhy edit make username Hardcore Met...  \n",
              "1  D'aww ! He match background colour I'm seeming...  \n",
              "2  Hey man , I'm really try edit war . It's guy c...  \n",
              "3  \" MoreI cannot make real suggestions improveme...  \n",
              "4  You , sir , hero . Any chance remember page th...  "
            ]
          },
          "metadata": {
            "tags": []
          },
          "execution_count": 78
        }
      ]
    },
    {
      "cell_type": "code",
      "metadata": {
        "id": "SGBgZFZnw4ky",
        "colab_type": "code",
        "colab": {}
      },
      "source": [
        "test['clean_comment_text'] = clean_train['clean_comment_text'][159571:]"
      ],
      "execution_count": 0,
      "outputs": []
    },
    {
      "cell_type": "code",
      "metadata": {
        "id": "SGn6pxpcw7xy",
        "colab_type": "code",
        "outputId": "7105c5f5-51a7-4a08-e29e-0c966257a712",
        "colab": {
          "base_uri": "https://localhost:8080/",
          "height": 204
        }
      },
      "source": [
        "test.head()"
      ],
      "execution_count": 80,
      "outputs": [
        {
          "output_type": "execute_result",
          "data": {
            "text/html": [
              "<div>\n",
              "<style scoped>\n",
              "    .dataframe tbody tr th:only-of-type {\n",
              "        vertical-align: middle;\n",
              "    }\n",
              "\n",
              "    .dataframe tbody tr th {\n",
              "        vertical-align: top;\n",
              "    }\n",
              "\n",
              "    .dataframe thead th {\n",
              "        text-align: right;\n",
              "    }\n",
              "</style>\n",
              "<table border=\"1\" class=\"dataframe\">\n",
              "  <thead>\n",
              "    <tr style=\"text-align: right;\">\n",
              "      <th></th>\n",
              "      <th>id</th>\n",
              "      <th>comment_text</th>\n",
              "      <th>clean_comment_text</th>\n",
              "    </tr>\n",
              "  </thead>\n",
              "  <tbody>\n",
              "    <tr>\n",
              "      <th>0</th>\n",
              "      <td>00001cee341fdb12</td>\n",
              "      <td>Yo bitch Ja Rule is more succesful then you'll...</td>\n",
              "      <td>Yo bitch Ja Rule succesful you will ever whats...</td>\n",
              "    </tr>\n",
              "    <tr>\n",
              "      <th>1</th>\n",
              "      <td>0000247867823ef7</td>\n",
              "      <td>== From RfC == \\n\\n The title is fine as it is...</td>\n",
              "      <td>= = From RfC = = The title fine , IMO .</td>\n",
              "    </tr>\n",
              "    <tr>\n",
              "      <th>2</th>\n",
              "      <td>00013b17ad220c46</td>\n",
              "      <td>\" \\n\\n == Sources == \\n\\n * Zawe Ashton on Lap...</td>\n",
              "      <td>\" = = Sources = = * Zawe Ashton Lapland — / \"</td>\n",
              "    </tr>\n",
              "    <tr>\n",
              "      <th>3</th>\n",
              "      <td>00017563c3f7919a</td>\n",
              "      <td>:If you have a look back at the source, the in...</td>\n",
              "      <td>: If look back source , information I update c...</td>\n",
              "    </tr>\n",
              "    <tr>\n",
              "      <th>4</th>\n",
              "      <td>00017695ad8997eb</td>\n",
              "      <td>I don't anonymously edit articles at all.</td>\n",
              "      <td>I do not anonymously edit article .</td>\n",
              "    </tr>\n",
              "  </tbody>\n",
              "</table>\n",
              "</div>"
            ],
            "text/plain": [
              "                 id                                       comment_text  \\\n",
              "0  00001cee341fdb12  Yo bitch Ja Rule is more succesful then you'll...   \n",
              "1  0000247867823ef7  == From RfC == \\n\\n The title is fine as it is...   \n",
              "2  00013b17ad220c46  \" \\n\\n == Sources == \\n\\n * Zawe Ashton on Lap...   \n",
              "3  00017563c3f7919a  :If you have a look back at the source, the in...   \n",
              "4  00017695ad8997eb          I don't anonymously edit articles at all.   \n",
              "\n",
              "                                  clean_comment_text  \n",
              "0  Yo bitch Ja Rule succesful you will ever whats...  \n",
              "1            = = From RfC = = The title fine , IMO .  \n",
              "2      \" = = Sources = = * Zawe Ashton Lapland — / \"  \n",
              "3  : If look back source , information I update c...  \n",
              "4                I do not anonymously edit article .  "
            ]
          },
          "metadata": {
            "tags": []
          },
          "execution_count": 80
        }
      ]
    },
    {
      "cell_type": "markdown",
      "metadata": {
        "id": "aiKqXjMaxFZk",
        "colab_type": "text"
      },
      "source": [
        "## Undersampling"
      ]
    },
    {
      "cell_type": "code",
      "metadata": {
        "id": "vYRuFxEOxIIb",
        "colab_type": "code",
        "colab": {}
      },
      "source": [
        "count_toxic_0, count_toxic_1 = train['toxic'].value_counts()"
      ],
      "execution_count": 0,
      "outputs": []
    },
    {
      "cell_type": "code",
      "metadata": {
        "id": "c_OvcJYNw9Fb",
        "colab_type": "code",
        "colab": {}
      },
      "source": [
        "toxic_0 = train[train['toxic'] == 0]\n",
        "toxic_1 = train[train['toxic'] == 1]"
      ],
      "execution_count": 0,
      "outputs": []
    },
    {
      "cell_type": "code",
      "metadata": {
        "id": "a0uDKJMtxLK5",
        "colab_type": "code",
        "colab": {}
      },
      "source": [
        "toxic_0_under = toxic_0.sample(count_toxic_1)\n",
        "train_under = pd.concat([toxic_0_under, toxic_1], axis=0)"
      ],
      "execution_count": 0,
      "outputs": []
    },
    {
      "cell_type": "code",
      "metadata": {
        "id": "mNolBY63xNaT",
        "colab_type": "code",
        "outputId": "c0e58c14-e6ca-450b-be09-84f83a21380e",
        "colab": {
          "base_uri": "https://localhost:8080/",
          "height": 295
        }
      },
      "source": [
        "train_under.toxic.value_counts().plot(kind='bar', title='Count(toxic)')"
      ],
      "execution_count": 84,
      "outputs": [
        {
          "output_type": "execute_result",
          "data": {
            "text/plain": [
              "<matplotlib.axes._subplots.AxesSubplot at 0x7f29ebbd4a20>"
            ]
          },
          "metadata": {
            "tags": []
          },
          "execution_count": 84
        },
        {
          "output_type": "display_data",
          "data": {
            "image/png": "[encoded data removed]",
            "text/plain": [
              "<Figure size 432x288 with 1 Axes>"
            ]
          },
          "metadata": {
            "tags": []
          }
        }
      ]
    },
    {
      "cell_type": "code",
      "metadata": {
        "id": "jfThiqFVxO-6",
        "colab_type": "code",
        "outputId": "59125bb7-ccf5-4d73-dae5-2086e82db833",
        "colab": {
          "base_uri": "https://localhost:8080/",
          "height": 255
        }
      },
      "source": [
        "train_under.head()"
      ],
      "execution_count": 85,
      "outputs": [
        {
          "output_type": "execute_result",
          "data": {
            "text/html": [
              "<div>\n",
              "<style scoped>\n",
              "    .dataframe tbody tr th:only-of-type {\n",
              "        vertical-align: middle;\n",
              "    }\n",
              "\n",
              "    .dataframe tbody tr th {\n",
              "        vertical-align: top;\n",
              "    }\n",
              "\n",
              "    .dataframe thead th {\n",
              "        text-align: right;\n",
              "    }\n",
              "</style>\n",
              "<table border=\"1\" class=\"dataframe\">\n",
              "  <thead>\n",
              "    <tr style=\"text-align: right;\">\n",
              "      <th></th>\n",
              "      <th>id</th>\n",
              "      <th>comment_text</th>\n",
              "      <th>toxic</th>\n",
              "      <th>severe_toxic</th>\n",
              "      <th>obscene</th>\n",
              "      <th>threat</th>\n",
              "      <th>insult</th>\n",
              "      <th>identity_hate</th>\n",
              "      <th>clean_comment_text</th>\n",
              "    </tr>\n",
              "  </thead>\n",
              "  <tbody>\n",
              "    <tr>\n",
              "      <th>138192</th>\n",
              "      <td>e38b03ba57e3926b</td>\n",
              "      <td>(I wanted to counter the lie in that discussio...</td>\n",
              "      <td>0</td>\n",
              "      <td>0</td>\n",
              "      <td>0</td>\n",
              "      <td>0</td>\n",
              "      <td>0</td>\n",
              "      <td>0</td>\n",
              "      <td>( I want counter lie discussion one support ed...</td>\n",
              "    </tr>\n",
              "    <tr>\n",
              "      <th>94367</th>\n",
              "      <td>fc5b854b27cf2c57</td>\n",
              "      <td>Why have I been blocked? I have not been here ...</td>\n",
              "      <td>0</td>\n",
              "      <td>0</td>\n",
              "      <td>0</td>\n",
              "      <td>0</td>\n",
              "      <td>0</td>\n",
              "      <td>0</td>\n",
              "      <td>Why I block ? I past IP address ? I request un...</td>\n",
              "    </tr>\n",
              "    <tr>\n",
              "      <th>24718</th>\n",
              "      <td>415656c3d5b9e660</td>\n",
              "      <td>\"\\n A third-party, totally uninvolved admin: m...</td>\n",
              "      <td>0</td>\n",
              "      <td>0</td>\n",
              "      <td>0</td>\n",
              "      <td>0</td>\n",
              "      <td>0</td>\n",
              "      <td>0</td>\n",
              "      <td>\" A third-party , totally uninvolved admin : ....</td>\n",
              "    </tr>\n",
              "    <tr>\n",
              "      <th>36651</th>\n",
              "      <td>61e966a24ea16f6d</td>\n",
              "      <td>Yes, that is your opinion that you share with ...</td>\n",
              "      <td>0</td>\n",
              "      <td>0</td>\n",
              "      <td>0</td>\n",
              "      <td>0</td>\n",
              "      <td>0</td>\n",
              "      <td>0</td>\n",
              "      <td>Yes , opinion share Tony Sideaway . The folks ...</td>\n",
              "    </tr>\n",
              "    <tr>\n",
              "      <th>142042</th>\n",
              "      <td>f7e055aa620fa154</td>\n",
              "      <td>I don't see how its POV.  They're accusations ...</td>\n",
              "      <td>0</td>\n",
              "      <td>0</td>\n",
              "      <td>0</td>\n",
              "      <td>0</td>\n",
              "      <td>0</td>\n",
              "      <td>0</td>\n",
              "      <td>I do not see POV . They're accusations make fe...</td>\n",
              "    </tr>\n",
              "  </tbody>\n",
              "</table>\n",
              "</div>"
            ],
            "text/plain": [
              "                      id                                       comment_text  \\\n",
              "138192  e38b03ba57e3926b  (I wanted to counter the lie in that discussio...   \n",
              "94367   fc5b854b27cf2c57  Why have I been blocked? I have not been here ...   \n",
              "24718   415656c3d5b9e660  \"\\n A third-party, totally uninvolved admin: m...   \n",
              "36651   61e966a24ea16f6d  Yes, that is your opinion that you share with ...   \n",
              "142042  f7e055aa620fa154  I don't see how its POV.  They're accusations ...   \n",
              "\n",
              "        toxic  severe_toxic  obscene  threat  insult  identity_hate  \\\n",
              "138192      0             0        0       0       0              0   \n",
              "94367       0             0        0       0       0              0   \n",
              "24718       0             0        0       0       0              0   \n",
              "36651       0             0        0       0       0              0   \n",
              "142042      0             0        0       0       0              0   \n",
              "\n",
              "                                       clean_comment_text  \n",
              "138192  ( I want counter lie discussion one support ed...  \n",
              "94367   Why I block ? I past IP address ? I request un...  \n",
              "24718   \" A third-party , totally uninvolved admin : ....  \n",
              "36651   Yes , opinion share Tony Sideaway . The folks ...  \n",
              "142042  I do not see POV . They're accusations make fe...  "
            ]
          },
          "metadata": {
            "tags": []
          },
          "execution_count": 85
        }
      ]
    },
    {
      "cell_type": "markdown",
      "metadata": {
        "id": "MwqeUY81xSXD",
        "colab_type": "text"
      },
      "source": [
        "### Fill NA"
      ]
    },
    {
      "cell_type": "code",
      "metadata": {
        "id": "N8tAwwRnxQ3E",
        "colab_type": "code",
        "colab": {}
      },
      "source": [
        "list_sentences_train = train[\"clean_comment_text\"].fillna(\"_na_\").values\n",
        "list_classes = [\"toxic\", \"severe_toxic\", \"obscene\", \"threat\", \"insult\", \"identity_hate\"]\n",
        "y = train[list_classes].values\n",
        "list_sentences_test = test[\"clean_comment_text\"].fillna(\"_na_\").values"
      ],
      "execution_count": 0,
      "outputs": []
    },
    {
      "cell_type": "markdown",
      "metadata": {
        "id": "MJCG0Y0fxWmT",
        "colab_type": "text"
      },
      "source": [
        "### Tokenize"
      ]
    },
    {
      "cell_type": "code",
      "metadata": {
        "id": "COpCjLROxVMh",
        "colab_type": "code",
        "colab": {}
      },
      "source": [
        "tokenizer = Tokenizer(num_words=max_features)\n",
        "tokenizer.fit_on_texts(list(list_sentences_train))\n",
        "list_tokenized_train = tokenizer.texts_to_sequences(list_sentences_train)\n",
        "list_tokenized_test = tokenizer.texts_to_sequences(list_sentences_test)\n",
        "X_t = pad_sequences(list_tokenized_train, maxlen=maxlen)\n",
        "X_te = pad_sequences(list_tokenized_test, maxlen=maxlen)"
      ],
      "execution_count": 0,
      "outputs": []
    },
    {
      "cell_type": "code",
      "metadata": {
        "id": "PONmemkjxbX5",
        "colab_type": "code",
        "colab": {}
      },
      "source": [
        "def get_coefs(word,*arr): return word, np.asarray(arr, dtype='float32')\n",
        "embeddings_index = dict(get_coefs(*o.strip().split()) for o in open(EMBEDDING_FILE))"
      ],
      "execution_count": 0,
      "outputs": []
    },
    {
      "cell_type": "code",
      "metadata": {
        "id": "Q0NoO65lxf-u",
        "colab_type": "code",
        "outputId": "94c9da29-0970-48ad-9012-57bc071656e3",
        "colab": {
          "base_uri": "https://localhost:8080/",
          "height": 88
        }
      },
      "source": [
        "all_embs = np.stack(embeddings_index.values())\n",
        "emb_mean,emb_std = all_embs.mean(), all_embs.std()\n",
        "emb_mean,emb_std"
      ],
      "execution_count": 117,
      "outputs": [
        {
          "output_type": "stream",
          "text": [
            "/usr/local/lib/python3.6/dist-packages/ipykernel_launcher.py:1: FutureWarning: arrays to stack must be passed as a \"sequence\" type such as list or tuple. Support for non-sequence iterables such as generators is deprecated as of NumPy 1.16 and will raise an error in the future.\n",
            "  \"\"\"Entry point for launching an IPython kernel.\n"
          ],
          "name": "stderr"
        },
        {
          "output_type": "execute_result",
          "data": {
            "text/plain": [
              "(0.020940498, 0.6441043)"
            ]
          },
          "metadata": {
            "tags": []
          },
          "execution_count": 117
        }
      ]
    },
    {
      "cell_type": "markdown",
      "metadata": {
        "id": "AESNfmKgxknL",
        "colab_type": "text"
      },
      "source": [
        "### Embedding and Build model"
      ]
    },
    {
      "cell_type": "code",
      "metadata": {
        "id": "LdScnIWPxi_O",
        "colab_type": "code",
        "colab": {}
      },
      "source": [
        "word_index = tokenizer.word_index\n",
        "nb_words = min(max_features, len(word_index))\n",
        "embedding_matrix = np.random.normal(emb_mean, emb_std, (nb_words, embed_size))\n",
        "for word, i in word_index.items():\n",
        "    if i >= max_features: continue\n",
        "    embedding_vector = embeddings_index.get(word)\n",
        "    if embedding_vector is not None: embedding_matrix[i] = embedding_vector"
      ],
      "execution_count": 0,
      "outputs": []
    },
    {
      "cell_type": "code",
      "metadata": {
        "id": "NRHWFWQexrA1",
        "colab_type": "code",
        "outputId": "7b9346c1-3094-44dc-b529-62256a767e35",
        "colab": {
          "base_uri": "https://localhost:8080/",
          "height": 34
        }
      },
      "source": [
        "print(embedding_matrix.shape)"
      ],
      "execution_count": 119,
      "outputs": [
        {
          "output_type": "stream",
          "text": [
            "(20000, 50)\n"
          ],
          "name": "stdout"
        }
      ]
    },
    {
      "cell_type": "code",
      "metadata": {
        "id": "V6O-1ZIQxsqR",
        "colab_type": "code",
        "colab": {}
      },
      "source": [
        "inp = Input(shape=(maxlen,))\n",
        "x = Embedding(max_features, embed_size, weights=[embedding_matrix])(inp)\n",
        "x = Bidirectional(LSTM(50, return_sequences=True, dropout=0.1, recurrent_dropout=0.1))(x)\n",
        "x = GlobalMaxPool1D()(x)\n",
        "x = Dense(50, activation=\"relu\")(x)\n",
        "x = Dropout(0.1)(x)\n",
        "x = Dense(6, activation=\"sigmoid\")(x)\n",
        "model = Model(inputs=inp, outputs=x)\n",
        "model.compile(loss='binary_crossentropy', optimizer='adam', metrics=['accuracy'])"
      ],
      "execution_count": 0,
      "outputs": []
    },
    {
      "cell_type": "code",
      "metadata": {
        "id": "wdQZXJtsxvxv",
        "colab_type": "code",
        "outputId": "74fe6631-eeb5-4342-d2d4-ae8fb58b59a5",
        "colab": {
          "base_uri": "https://localhost:8080/",
          "height": 204
        }
      },
      "source": [
        "model.fit(X_t, y, batch_size=32, epochs=6, validation_split=0.1)"
      ],
      "execution_count": 0,
      "outputs": [
        {
          "output_type": "stream",
          "text": [
            "Train on 143613 samples, validate on 15958 samples\n",
            "Epoch 1/6\n",
            "143613/143613 [==============================] - 815s 6ms/step - loss: 0.0596 - acc: 0.9794 - val_loss: 0.0489 - val_acc: 0.9818\n",
            "Epoch 2/6\n",
            "143613/143613 [==============================] - 787s 5ms/step - loss: 0.0448 - acc: 0.9829 - val_loss: 0.0470 - val_acc: 0.9824\n",
            "Epoch 3/6\n",
            "143613/143613 [==============================] - 806s 6ms/step - loss: 0.0406 - acc: 0.9841 - val_loss: 0.0454 - val_acc: 0.9830\n",
            "Epoch 4/6\n",
            "143613/143613 [==============================] - 801s 6ms/step - loss: 0.0372 - acc: 0.9851 - val_loss: 0.0463 - val_acc: 0.9827\n",
            "Epoch 5/6\n",
            " 85952/143613 [================>.............] - ETA: 5:14 - loss: 0.0341 - acc: 0.9861"
          ],
          "name": "stdout"
        }
      ]
    },
    {
      "cell_type": "markdown",
      "metadata": {
        "id": "FR7DTHq-ygZ4",
        "colab_type": "text"
      },
      "source": [
        "### 加载word2vec矩阵"
      ]
    },
    {
      "cell_type": "code",
      "metadata": {
        "id": "C1dLz3WIxy3y",
        "colab_type": "code",
        "outputId": "4b7df460-43bf-488d-ee4e-3aabfb3c58c1",
        "colab": {
          "base_uri": "https://localhost:8080/",
          "height": 34
        }
      },
      "source": [
        "word2vec_matrix = np.load('data/word2vec.npy')\n",
        "print(word2vec_matrix.shape)/Users/suhang/panopticapi"
      ],
      "execution_count": 87,
      "outputs": [
        {
          "output_type": "stream",
          "text": [
            "(144, 100)\n"
          ],
          "name": "stdout"
        }
      ]
    },
    {
      "cell_type": "code",
      "metadata": {
        "id": "WRGub9Moy-8H",
        "colab_type": "code",
        "colab": {}
      },
      "source": [
        "embed_size_2 = 100\n",
        "max_features_2 = 144\n",
        "maxlen_2 = 100"
      ],
      "execution_count": 0,
      "outputs": []
    },
    {
      "cell_type": "code",
      "metadata": {
        "id": "LudNVc66Ycr1",
        "colab_type": "code",
        "colab": {}
      },
      "source": [
        "tokenizer = Tokenizer(num_words=max_features_2)\n",
        "tokenizer.fit_on_texts(list(list_sentences_train))\n",
        "list_tokenized_train = tokenizer.texts_to_sequences(list_sentences_train)\n",
        "list_tokenized_test = tokenizer.texts_to_sequences(list_sentences_test)\n",
        "X_t = pad_sequences(list_tokenized_train, maxlen=maxlen_2)\n",
        "X_te = pad_sequences(list_tokenized_test, maxlen=maxlen_2)"
      ],
      "execution_count": 0,
      "outputs": []
    },
    {
      "cell_type": "code",
      "metadata": {
        "id": "zKIClT0WzBIb",
        "colab_type": "code",
        "colab": {}
      },
      "source": [
        "inp_2 = Input(shape=(maxlen_2,))\n",
        "x_2 = Embedding(max_features_2, embed_size_2, weights=[word2vec_matrix])(inp_2)\n",
        "x_2 = Bidirectional(LSTM(50, return_sequences=True, dropout=0.1, recurrent_dropout=0.1))(x_2)\n",
        "x_2 = GlobalMaxPool1D()(x_2)\n",
        "x_2 = Dense(50, activation=\"relu\")(x_2)\n",
        "x_2 = Dropout(0.1)(x_2)\n",
        "x_2 = Dense(6, activation=\"sigmoid\")(x_2)\n",
        "model_2 = Model(inputs=inp_2, outputs=x_2)\n",
        "model_2.compile(loss='binary_crossentropy', optimizer='adam', metrics=['accuracy'])"
      ],
      "execution_count": 0,
      "outputs": []
    },
    {
      "cell_type": "code",
      "metadata": {
        "id": "QXgs2Mt31SMb",
        "colab_type": "code",
        "outputId": "a2e5b24c-142a-4996-9ed4-f73bfbf6f50a",
        "colab": {
          "base_uri": "https://localhost:8080/",
          "height": 255
        }
      },
      "source": [
        "model_2.fit(X_t, y, batch_size=200, epochs=6, validation_split=0.1)"
      ],
      "execution_count": 108,
      "outputs": [
        {
          "output_type": "stream",
          "text": [
            "Train on 27529 samples, validate on 3059 samples\n",
            "Epoch 1/6\n",
            "27529/27529 [==============================] - 106s 4ms/step - loss: 0.2972 - acc: 0.8769 - val_loss: 0.4076 - val_acc: 0.8166\n",
            "Epoch 2/6\n",
            "27529/27529 [==============================] - 106s 4ms/step - loss: 0.2226 - acc: 0.9108 - val_loss: 0.3851 - val_acc: 0.8241\n",
            "Epoch 3/6\n",
            "27529/27529 [==============================] - 107s 4ms/step - loss: 0.2124 - acc: 0.9151 - val_loss: 0.3906 - val_acc: 0.8239\n",
            "Epoch 4/6\n",
            "27529/27529 [==============================] - 106s 4ms/step - loss: 0.2075 - acc: 0.9168 - val_loss: 0.3878 - val_acc: 0.8251\n",
            "Epoch 5/6\n",
            "27529/27529 [==============================] - 106s 4ms/step - loss: 0.2045 - acc: 0.9171 - val_loss: 0.3655 - val_acc: 0.8342\n",
            "Epoch 6/6\n",
            "27529/27529 [==============================] - 106s 4ms/step - loss: 0.2016 - acc: 0.9185 - val_loss: 0.3569 - val_acc: 0.8388\n"
          ],
          "name": "stdout"
        },
        {
          "output_type": "execute_result",
          "data": {
            "text/plain": [
              "<keras.callbacks.History at 0x7f29e61d4cc0>"
            ]
          },
          "metadata": {
            "tags": []
          },
          "execution_count": 108
        }
      ]
    },
    {
      "cell_type": "code",
      "metadata": {
        "id": "YDofrciZ_n-m",
        "colab_type": "code",
        "colab": {
          "base_uri": "https://localhost:8080/",
          "height": 34
        },
        "outputId": "d3448abf-c17b-4299-bba4-f5c6e5eedd21"
      },
      "source": [
        "y_test = model_2.predict([X_te], batch_size=1024, verbose=1)\n",
        "sample_submission = pd.read_csv('data/sample_submission.csv')\n",
        "sample_submission[list_classes] = y_test\n",
        "sample_submission.to_csv('data/submission_word2vec_cleanc_us.csv', index=False)"
      ],
      "execution_count": 109,
      "outputs": [
        {
          "output_type": "stream",
          "text": [
            "153164/153164 [==============================] - 139s 909us/step\n"
          ],
          "name": "stdout"
        }
      ]
    },
    {
      "cell_type": "code",
      "metadata": {
        "id": "Nk1cvETfM_qI",
        "colab_type": "code",
        "colab": {}
      },
      "source": [
        ""
      ],
      "execution_count": 0,
      "outputs": []
    }
  ]
}